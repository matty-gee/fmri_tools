{
 "cells": [
  {
   "cell_type": "code",
   "execution_count": 1,
   "metadata": {},
   "outputs": [
    {
     "ename": "AttributeError",
     "evalue": "module 'collections' has no attribute 'Iterable'",
     "output_type": "error",
     "traceback": [
      "\u001b[0;31m---------------------------------------------------------------------------\u001b[0m",
      "\u001b[0;31mAttributeError\u001b[0m                            Traceback (most recent call last)",
      "Cell \u001b[0;32mIn[1], line 1\u001b[0m\n\u001b[0;32m----> 1\u001b[0m \u001b[39mimport\u001b[39;00m \u001b[39mxnat\u001b[39;00m\n",
      "File \u001b[0;32m/anaconda3/envs/dcm2bids/lib/python3.10/site-packages/xnat/__init__.py:42\u001b[0m\n\u001b[1;32m     39\u001b[0m \u001b[39mfrom\u001b[39;00m \u001b[39msix\u001b[39;00m\u001b[39m.\u001b[39;00m\u001b[39mmoves\u001b[39;00m\u001b[39m.\u001b[39;00m\u001b[39murllib\u001b[39;00m \u001b[39mimport\u001b[39;00m parse\n\u001b[1;32m     41\u001b[0m \u001b[39mfrom\u001b[39;00m \u001b[39m.\u001b[39;00m \u001b[39mimport\u001b[39;00m exceptions\n\u001b[0;32m---> 42\u001b[0m \u001b[39mfrom\u001b[39;00m \u001b[39m.\u001b[39;00m\u001b[39msession\u001b[39;00m \u001b[39mimport\u001b[39;00m XNATSession, BaseXNATSession\n\u001b[1;32m     43\u001b[0m \u001b[39mfrom\u001b[39;00m \u001b[39m.\u001b[39;00m\u001b[39mconstants\u001b[39;00m \u001b[39mimport\u001b[39;00m DEFAULT_SCHEMAS\n\u001b[1;32m     44\u001b[0m \u001b[39mfrom\u001b[39;00m \u001b[39m.\u001b[39;00m\u001b[39mconvert_xsd\u001b[39;00m \u001b[39mimport\u001b[39;00m SchemaParser\n",
      "File \u001b[0;32m/anaconda3/envs/dcm2bids/lib/python3.10/site-packages/xnat/session.py:25\u001b[0m\n\u001b[1;32m     22\u001b[0m \u001b[39mimport\u001b[39;00m \u001b[39mre\u001b[39;00m\n\u001b[1;32m     23\u001b[0m \u001b[39mimport\u001b[39;00m \u001b[39mthreading\u001b[39;00m\n\u001b[0;32m---> 25\u001b[0m \u001b[39mfrom\u001b[39;00m \u001b[39mprogressbar\u001b[39;00m \u001b[39mimport\u001b[39;00m AdaptiveETA, AdaptiveTransferSpeed, Bar, BouncingBar, \\\n\u001b[1;32m     26\u001b[0m     DataSize, Percentage, ProgressBar, Timer, UnknownLength\n\u001b[1;32m     27\u001b[0m \u001b[39mimport\u001b[39;00m \u001b[39mrequests\u001b[39;00m\n\u001b[1;32m     28\u001b[0m \u001b[39mimport\u001b[39;00m \u001b[39msix\u001b[39;00m\n",
      "File \u001b[0;32m/anaconda3/envs/dcm2bids/lib/python3.10/site-packages/progressbar/__init__.py:4\u001b[0m\n\u001b[1;32m      1\u001b[0m \u001b[39mfrom\u001b[39;00m \u001b[39mdatetime\u001b[39;00m \u001b[39mimport\u001b[39;00m date\n\u001b[1;32m      3\u001b[0m \u001b[39mfrom\u001b[39;00m \u001b[39m.\u001b[39;00m\u001b[39mutils\u001b[39;00m \u001b[39mimport\u001b[39;00m streams\n\u001b[0;32m----> 4\u001b[0m \u001b[39mfrom\u001b[39;00m \u001b[39m.\u001b[39;00m\u001b[39mshortcuts\u001b[39;00m \u001b[39mimport\u001b[39;00m progressbar\n\u001b[1;32m      6\u001b[0m \u001b[39mfrom\u001b[39;00m \u001b[39m.\u001b[39;00m\u001b[39mwidgets\u001b[39;00m \u001b[39mimport\u001b[39;00m (\n\u001b[1;32m      7\u001b[0m     Timer,\n\u001b[1;32m      8\u001b[0m     ETA,\n\u001b[0;32m   (...)\u001b[0m\n\u001b[1;32m     25\u001b[0m     CurrentTime\n\u001b[1;32m     26\u001b[0m )\n\u001b[1;32m     28\u001b[0m \u001b[39mfrom\u001b[39;00m \u001b[39m.\u001b[39;00m\u001b[39mbar\u001b[39;00m \u001b[39mimport\u001b[39;00m (\n\u001b[1;32m     29\u001b[0m     ProgressBar,\n\u001b[1;32m     30\u001b[0m     DataTransferBar,\n\u001b[1;32m     31\u001b[0m     NullBar,\n\u001b[1;32m     32\u001b[0m )\n",
      "File \u001b[0;32m/anaconda3/envs/dcm2bids/lib/python3.10/site-packages/progressbar/shortcuts.py:1\u001b[0m\n\u001b[0;32m----> 1\u001b[0m \u001b[39mfrom\u001b[39;00m \u001b[39m.\u001b[39;00m \u001b[39mimport\u001b[39;00m bar\n\u001b[1;32m      4\u001b[0m \u001b[39mdef\u001b[39;00m \u001b[39mprogressbar\u001b[39m(iterator, min_value\u001b[39m=\u001b[39m\u001b[39m0\u001b[39m, max_value\u001b[39m=\u001b[39m\u001b[39mNone\u001b[39;00m,\n\u001b[1;32m      5\u001b[0m                 widgets\u001b[39m=\u001b[39m\u001b[39mNone\u001b[39;00m, \u001b[39m*\u001b[39m\u001b[39m*\u001b[39mkwargs):\n\u001b[1;32m      6\u001b[0m     progressbar \u001b[39m=\u001b[39m bar\u001b[39m.\u001b[39mProgressBar(\n\u001b[1;32m      7\u001b[0m         min_value\u001b[39m=\u001b[39mmin_value, max_value\u001b[39m=\u001b[39mmax_value,\n\u001b[1;32m      8\u001b[0m         widgets\u001b[39m=\u001b[39mwidgets, \u001b[39m*\u001b[39m\u001b[39m*\u001b[39mkwargs)\n",
      "File \u001b[0;32m/anaconda3/envs/dcm2bids/lib/python3.10/site-packages/progressbar/bar.py:50\u001b[0m\n\u001b[1;32m     46\u001b[0m             \u001b[39mexcept\u001b[39;00m \u001b[39mException\u001b[39;00m:\n\u001b[1;32m     47\u001b[0m                 \u001b[39mpass\u001b[39;00m\n\u001b[0;32m---> 50\u001b[0m \u001b[39mclass\u001b[39;00m \u001b[39mProgressBarBase\u001b[39;00m(collections\u001b[39m.\u001b[39;49mIterable, ProgressBarMixinBase):\n\u001b[1;32m     51\u001b[0m     \u001b[39mpass\u001b[39;00m\n\u001b[1;32m     54\u001b[0m \u001b[39mclass\u001b[39;00m \u001b[39mDefaultFdMixin\u001b[39;00m(ProgressBarMixinBase):\n",
      "\u001b[0;31mAttributeError\u001b[0m: module 'collections' has no attribute 'Iterable'"
     ]
    }
   ],
   "source": [
    "import xnat"
   ]
  },
  {
   "cell_type": "code",
   "execution_count": null,
   "metadata": {},
   "outputs": [],
   "source": []
  }
 ],
 "metadata": {
  "kernelspec": {
   "display_name": "dcm2bids",
   "language": "python",
   "name": "python3"
  },
  "language_info": {
   "codemirror_mode": {
    "name": "ipython",
    "version": 3
   },
   "file_extension": ".py",
   "mimetype": "text/x-python",
   "name": "python",
   "nbconvert_exporter": "python",
   "pygments_lexer": "ipython3",
   "version": "3.10.9"
  },
  "orig_nbformat": 4,
  "vscode": {
   "interpreter": {
    "hash": "934d0cac0cdf3f7fa0f91c1a0ac69505a8e3c7409d7113c6fb9de7fefcc15071"
   }
  }
 },
 "nbformat": 4,
 "nbformat_minor": 2
}
