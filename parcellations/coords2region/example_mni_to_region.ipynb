{
 "cells": [
  {
   "cell_type": "code",
   "execution_count": 3,
   "metadata": {},
   "outputs": [],
   "source": [
    "# this is where you need to import python modules\n",
    "# if you get an error, it means you need to install...\n",
    "# -- to install in your terminal, type: conda install MODULE_NAME\n",
    "\n",
    "import sys\n",
    "import pandas as pd\n",
    "import numpy as np\n",
    "\n",
    "# now to import the module I sent you\n",
    "code_dir = '/Users/matty_gee/Dropbox/Projects/Code'\n",
    "sys.path.insert(0, f'{code_dir}/fMRI/mni_to_region') # this is wherever you downloaded the code I sent you\n",
    "from find_mni import *"
   ]
  },
  {
   "cell_type": "code",
   "execution_count": 12,
   "metadata": {},
   "outputs": [
    {
     "name": "stdout",
     "output_type": "stream",
     "text": [
      "[['Right Cerebrum', 'Sub-lobar', 'Extra-Nuclear', 'White Matter', 'undefined', 'undefined']]\n",
      "Right Cerebrum\n"
     ]
    }
   ],
   "source": [
    "mni_coords = [30,20,10] # fake XYZ coordinates\n",
    "[one_line, table] = find_structure(mni_coords)\n",
    "print(table) \n",
    "print(table[0][0]) # the first entry is the name I think we prob want.... \n",
    "# -- the name this returns is what we want to check and make more precise...."
   ]
  },
  {
   "cell_type": "code",
   "execution_count": 15,
   "metadata": {},
   "outputs": [
    {
     "name": "stdout",
     "output_type": "stream",
     "text": [
      "[['Right Cerebrum', 'Sub-lobar', 'Extra-Nuclear', 'White Matter', 'undefined', 'undefined'], ['Right Cerebrum', 'Limbic Lobe', 'Cingulate Gyrus', 'White Matter', 'undefined', 'Cingulum_Mid_R (aal)']]\n",
      "['Right_Cerebrum', 'Right_Cerebrum']\n"
     ]
    }
   ],
   "source": [
    "mni_coords = [[30,20,10], # can also put multiple sets of coordinates\n",
    "              [10,20,30]]\n",
    "[one_line, table] = find_structure(mni_coords)\n",
    "print(table) # now prints out 2 lists of name details for the 2 sets of coordinates\n",
    "\n",
    "region_names = [t[2].replace(' ', '_') for t in table] # to get the names\n",
    "print(region_names)"
   ]
  },
  {
   "cell_type": "markdown",
   "metadata": {},
   "source": [
    "## TO DO:\n",
    "- figure out how to import the xlsx file I gave you with the different coordinates (hint, use pd.read_excel(...) and save it in a variable\n",
    "- isolate the coordinates from the resulting dataframe \n",
    "- input the coordinates in the find_structure() function\n",
    "- save the resulting names into some kind of list"
   ]
  },
  {
   "cell_type": "code",
   "execution_count": null,
   "metadata": {},
   "outputs": [],
   "source": [
    "# read excel file into a pandas dataframe\n",
    "\n",
    "df = pd.read_excel('/path/to/filename.xlsx')\n",
    "coords = df[['COL_FOR_MNI_X','COL_FOR_MNI_Y','COL_FOR_MNI_Z']]"
   ]
  }
 ],
 "metadata": {
  "kernelspec": {
   "display_name": "Python 3",
   "language": "python",
   "name": "python3"
  },
  "language_info": {
   "codemirror_mode": {
    "name": "ipython",
    "version": 3
   },
   "file_extension": ".py",
   "mimetype": "text/x-python",
   "name": "python",
   "nbconvert_exporter": "python",
   "pygments_lexer": "ipython3",
   "version": "3.7.3"
  }
 },
 "nbformat": 4,
 "nbformat_minor": 4
}
