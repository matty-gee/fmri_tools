{
 "cells": [
  {
   "cell_type": "code",
   "execution_count": 24,
   "metadata": {},
   "outputs": [],
   "source": [
    "from images import * \n",
    "import glob\n",
    "import numpy as np\n",
    "import seaborn as sns\n",
    "\n",
    "import sys, os\n",
    "user = os.path.expanduser('~')\n",
    "sys.path.insert(0, f'{user}/Dropbox/Projects/social_navigation_analysis/social_navigation_analysis')\n",
    "import info"
   ]
  },
  {
   "cell_type": "code",
   "execution_count": 25,
   "metadata": {},
   "outputs": [
    {
     "name": "stdout",
     "output_type": "stream",
     "text": [
      "Found 15 masks\n"
     ]
    }
   ],
   "source": [
    "# load in an fmri image\n",
    "func_dir = '/Volumes/synapse/projects/SocialSpace/Projects/SNT-fmri_CUD/Data/Scans/spm_preprocessing/subs/18001/func'\n",
    "func_img_fname = glob.glob(f'{func_dir}/wau*.nii')[0]\n",
    "rp_fname = glob.glob(f'{func_dir}/rp_*.txt')[0]\n",
    "\n",
    "# find masks\n",
    "mask_dir = '/Volumes/synapse/projects/SocialSpace/Projects/SNT-fmri_CUD/Masks/ROIs'\n",
    "mask_fnames = glob.glob(f'{mask_dir}/*.nii')\n",
    "print(f'Found {len(mask_fnames)} masks')"
   ]
  },
  {
   "attachments": {},
   "cell_type": "markdown",
   "metadata": {},
   "source": [
    "# Motion"
   ]
  },
  {
   "cell_type": "code",
   "execution_count": null,
   "metadata": {},
   "outputs": [],
   "source": []
  },
  {
   "cell_type": "code",
   "execution_count": 60,
   "metadata": {},
   "outputs": [],
   "source": [
    "task_df = get_task_trs(tr=1.0)\n",
    "decision_trs = (task_df['trial_type'] == 'Decision').values\n",
    "nondecision_trs = (task_df['trial_type'] != 'Decision').values"
   ]
  },
  {
   "cell_type": "code",
   "execution_count": 67,
   "metadata": {},
   "outputs": [],
   "source": []
  },
  {
   "cell_type": "code",
   "execution_count": 70,
   "metadata": {},
   "outputs": [
    {
     "data": {
      "text/html": [
       "<div>\n",
       "<style scoped>\n",
       "    .dataframe tbody tr th:only-of-type {\n",
       "        vertical-align: middle;\n",
       "    }\n",
       "\n",
       "    .dataframe tbody tr th {\n",
       "        vertical-align: top;\n",
       "    }\n",
       "\n",
       "    .dataframe thead th {\n",
       "        text-align: right;\n",
       "    }\n",
       "</style>\n",
       "<table border=\"1\" class=\"dataframe\">\n",
       "  <thead>\n",
       "    <tr style=\"text-align: right;\">\n",
       "      <th></th>\n",
       "      <th>sub_id</th>\n",
       "      <th>fd_mean</th>\n",
       "      <th>fd_max</th>\n",
       "      <th>fd_decision_mean</th>\n",
       "      <th>fd_decision_max</th>\n",
       "      <th>fd_nondecision_mean</th>\n",
       "      <th>fd_nondecision_max</th>\n",
       "      <th>trans_x_mean</th>\n",
       "      <th>trans_x_max</th>\n",
       "      <th>trans_x_decision_mean</th>\n",
       "      <th>...</th>\n",
       "      <th>rot_y_decision_mean</th>\n",
       "      <th>rot_y_decision_max</th>\n",
       "      <th>rot_y_nondecision_mean</th>\n",
       "      <th>rot_y_nondecision_max</th>\n",
       "      <th>rot_z_mean</th>\n",
       "      <th>rot_z_max</th>\n",
       "      <th>rot_z_decision_mean</th>\n",
       "      <th>rot_z_decision_max</th>\n",
       "      <th>rot_z_nondecision_mean</th>\n",
       "      <th>rot_z_nondecision_max</th>\n",
       "    </tr>\n",
       "  </thead>\n",
       "  <tbody>\n",
       "    <tr>\n",
       "      <th>2</th>\n",
       "      <td>18001.0</td>\n",
       "      <td>0.117748</td>\n",
       "      <td>0.837265</td>\n",
       "      <td>0.110093</td>\n",
       "      <td>0.80146</td>\n",
       "      <td>0.124866</td>\n",
       "      <td>0.837265</td>\n",
       "      <td>-0.035795</td>\n",
       "      <td>0.10284</td>\n",
       "      <td>-0.035253</td>\n",
       "      <td>...</td>\n",
       "      <td>-0.000153</td>\n",
       "      <td>0.006255</td>\n",
       "      <td>0.000097</td>\n",
       "      <td>0.00386</td>\n",
       "      <td>-0.001407</td>\n",
       "      <td>0.000636</td>\n",
       "      <td>-0.001368</td>\n",
       "      <td>0.000636</td>\n",
       "      <td>-0.001444</td>\n",
       "      <td>0.000457</td>\n",
       "    </tr>\n",
       "    <tr>\n",
       "      <th>3</th>\n",
       "      <td>18001.0</td>\n",
       "      <td>0.117748</td>\n",
       "      <td>0.837265</td>\n",
       "      <td>0.110093</td>\n",
       "      <td>0.80146</td>\n",
       "      <td>0.124866</td>\n",
       "      <td>0.837265</td>\n",
       "      <td>-0.035795</td>\n",
       "      <td>0.10284</td>\n",
       "      <td>-0.035253</td>\n",
       "      <td>...</td>\n",
       "      <td>-0.000153</td>\n",
       "      <td>0.006255</td>\n",
       "      <td>0.000097</td>\n",
       "      <td>0.00386</td>\n",
       "      <td>-0.001407</td>\n",
       "      <td>0.000636</td>\n",
       "      <td>-0.001368</td>\n",
       "      <td>0.000636</td>\n",
       "      <td>-0.001444</td>\n",
       "      <td>0.000457</td>\n",
       "    </tr>\n",
       "  </tbody>\n",
       "</table>\n",
       "<p>2 rows × 43 columns</p>\n",
       "</div>"
      ],
      "text/plain": [
       "    sub_id   fd_mean    fd_max  fd_decision_mean  fd_decision_max  \\\n",
       "2  18001.0  0.117748  0.837265          0.110093          0.80146   \n",
       "3  18001.0  0.117748  0.837265          0.110093          0.80146   \n",
       "\n",
       "   fd_nondecision_mean  fd_nondecision_max  trans_x_mean  trans_x_max  \\\n",
       "2             0.124866            0.837265     -0.035795      0.10284   \n",
       "3             0.124866            0.837265     -0.035795      0.10284   \n",
       "\n",
       "   trans_x_decision_mean  ...  rot_y_decision_mean  rot_y_decision_max  \\\n",
       "2              -0.035253  ...            -0.000153            0.006255   \n",
       "3              -0.035253  ...            -0.000153            0.006255   \n",
       "\n",
       "   rot_y_nondecision_mean  rot_y_nondecision_max  rot_z_mean  rot_z_max  \\\n",
       "2                0.000097                0.00386   -0.001407   0.000636   \n",
       "3                0.000097                0.00386   -0.001407   0.000636   \n",
       "\n",
       "   rot_z_decision_mean  rot_z_decision_max  rot_z_nondecision_mean  \\\n",
       "2            -0.001368            0.000636               -0.001444   \n",
       "3            -0.001368            0.000636               -0.001444   \n",
       "\n",
       "   rot_z_nondecision_max  \n",
       "2               0.000457  \n",
       "3               0.000457  \n",
       "\n",
       "[2 rows x 43 columns]"
      ]
     },
     "execution_count": 70,
     "metadata": {},
     "output_type": "execute_result"
    }
   ],
   "source": [
    "i=3\n",
    "rp = pd.read_csv(rp_fname, header=None, delim_whitespace=True)\n",
    "rp.columns = ['trans_x', 'trans_y', 'trans_z', 'rot_x', 'rot_y', 'rot_z']\n",
    "rp.insert(0, 'fd', calc_fd(rp))\n",
    "\n",
    "# load excel sheet if it exists & append...\n",
    "out_df.loc[i, 'sub_id'] = int(rp_fname.split('/')[-3])\n",
    "for measure in motion_measures: \n",
    "    \n",
    "    out_df.loc[i, f'{measure}_mean'] = np.nanmean(rp[measure], 0)\n",
    "    out_df.loc[i, f'{measure}_max']  = np.max(rp[measure], 0)\n",
    "\n",
    "    out_df.loc[i, f'{measure}_decision_mean'] = np.nanmean(rp[decision_trs][measure], 0)\n",
    "    out_df.loc[i, f'{measure}_decision_max']  = np.max(rp[decision_trs][measure], 0)\n",
    "\n",
    "    out_df.loc[i, f'{measure}_nondecision_mean'] = np.nanmean(rp[nondecision_trs][measure], 0)\n",
    "    out_df.loc[i, f'{measure}_nondecision_max']  = np.max(rp[nondecision_trs][measure], 0)\n",
    "out_df"
   ]
  },
  {
   "cell_type": "code",
   "execution_count": null,
   "metadata": {},
   "outputs": [],
   "source": [
    "# get mean of motion parameters for indices in decision_windows and not decision_windows\n"
   ]
  }
 ],
 "metadata": {
  "kernelspec": {
   "display_name": "social_navigation_analysis",
   "language": "python",
   "name": "python3"
  },
  "language_info": {
   "codemirror_mode": {
    "name": "ipython",
    "version": 3
   },
   "file_extension": ".py",
   "mimetype": "text/x-python",
   "name": "python",
   "nbconvert_exporter": "python",
   "pygments_lexer": "ipython3",
   "version": "3.10.8"
  },
  "orig_nbformat": 4,
  "vscode": {
   "interpreter": {
    "hash": "afb432af2a6d4e683b6deca85d226b121832fa8b450f98b144295a2f52816835"
   }
  }
 },
 "nbformat": 4,
 "nbformat_minor": 2
}
